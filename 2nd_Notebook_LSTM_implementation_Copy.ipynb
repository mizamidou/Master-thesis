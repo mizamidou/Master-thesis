{
 "cells": [
  {
   "cell_type": "markdown",
   "metadata": {
    "id": "HFWXMI1RhkwR"
   },
   "source": [
    "# Step 1. Preprocess and format JSON Data to NLP suitable formatting For LSTM"
   ]
  },
  {
   "cell_type": "code",
   "execution_count": null,
   "metadata": {
    "id": "zF4NHJazV-vR"
   },
   "outputs": [],
   "source": [
    "#imports\n",
    "import json\n",
    "import os\n",
    "import sys\n",
    "import pickle\n",
    "import re\n",
    "import string\n",
    "import numpy as np\n",
    "import pandas as pd\n",
    "from sklearn.metrics import  classification_report\n",
    "from sklearn.metrics import  classification_report\n",
    "import tensorflow as tf\n",
    "from keras import initializers\n",
    "from keras.preprocessing.text import Tokenizer\n",
    "from keras.preprocessing.sequence import pad_sequences\n",
    "import tensorflow\n",
    "from tensorflow.keras.layers import Embedding,Dropout,LSTM,Bidirectional,Concatenate,Input,Dense,Flatten\n",
    "from tensorflow.keras.models import Model\n",
    "import matplotlib.pyplot as plt\n",
    "from IPython.display import Image\n",
    "import numpy as np\n",
    "from sklearn.metrics import  classification_report\n",
    "import tensorflow as tf\n",
    "import pickle\n",
    "import pandas as pd\n"
   ]
  },
  {
   "cell_type": "code",
   "execution_count": null,
   "metadata": {
    "id": "6WJdRY--hbB4"
   },
   "outputs": [],
   "source": [
    "# Function to load JSON data from a file\n",
    "def load_json_file(file_path):\n",
    "    with open(file_path, 'r') as json_file:\n",
    "        return json.load(json_file)\n",
    "\n",
    "# Function to create the \"output\" directory if it doesn't exist\n",
    "def create_output_directory(output_directory):\n",
    "    if not os.path.exists(output_directory):\n",
    "        os.makedirs(output_directory)\n",
    "\n",
    "# Function to create emotion cause tags\n",
    "def create_emotion_cause_tag(utterance, cause_span):\n",
    "    return f\"<{utterance['emotion']}>\" + utterance['utterance'] + f\"<cause>{cause_span}<\\\\cause> . <\\\\{utterance['emotion']}>\"\n",
    "\n",
    "# Function to preprocess JSON data and create output files\n",
    "def preprocess_data_and_create_output(json_data, output_directory):\n",
    "    create_output_directory(output_directory)\n",
    "\n",
    "    for conv_id, conversation in json_data.items():\n",
    "        with open(os.path.join(output_directory, f\"{conv_id}.txt\"), 'w') as output_file:\n",
    "            for utterance in conversation[0]:\n",
    "                if 'expanded emotion cause evidence' in utterance:\n",
    "                    valid_evidence_indices = []\n",
    "                    for evidence_idx_str, cause_span in zip(utterance['expanded emotion cause evidence'], utterance['expanded emotion cause span']):\n",
    "                        try:\n",
    "                            evidence_idx = int(evidence_idx_str) - 1\n",
    "                            valid_evidence_indices.append(evidence_idx)\n",
    "                        except ValueError:\n",
    "                            pass\n",
    "                    if valid_evidence_indices:\n",
    "                        for evidence_idx in valid_evidence_indices:\n",
    "                            output_line = create_emotion_cause_tag(conversation[0][evidence_idx], cause_span)\n",
    "                            output_file.write(output_line + '\\n')\n",
    "                else:\n",
    "                    output_line = f\"<{utterance['emotion']}>\" + utterance['utterance'] + f\"<\\\\{utterance['emotion']}>\"\n",
    "                    output_file.write(output_line + '\\n')\n",
    "\n",
    "    print(\"Data preprocessing completed. Output files saved in the 'output' directory.\")\n",
    "\n",
    "# Function to merge unique lines from text files in a directory\n",
    "def merge_unique_lines_from_directory(directory, merged_file):\n",
    "    unique_lines = set()\n",
    "    duplicate_count = 0\n",
    "\n",
    "    for filename in os.listdir(directory):\n",
    "        if filename.endswith('.txt'):\n",
    "            filepath = os.path.join(directory, filename)\n",
    "            with open(filepath, 'r') as file:\n",
    "                lines = file.readlines()\n",
    "                for line in lines:\n",
    "                    line = line.strip()\n",
    "                    if line not in unique_lines:\n",
    "                        unique_lines.add(line)\n",
    "                    else:\n",
    "                        duplicate_count += 1\n",
    "\n",
    "    with open(merged_file, 'w') as output_file:\n",
    "        output_file.write('\\n'.join(unique_lines))\n",
    "\n",
    "    print(f\"Merged {len(unique_lines)} unique lines.\")\n",
    "    if duplicate_count > 0:\n",
    "        print(f\"Found {duplicate_count} duplicate lines.\")"
   ]
  },
  {
   "cell_type": "code",
   "execution_count": null,
   "metadata": {
    "colab": {
     "base_uri": "https://localhost:8080/"
    },
    "id": "teJAFfVDjK8b",
    "outputId": "55e0ed1c-db79-42e4-a43a-9f56ff8c8233"
   },
   "outputs": [
    {
     "name": "stdout",
     "output_type": "stream",
     "text": [
      "Data preprocessing completed. Output files saved in the 'output' directory.\n",
      "Merged 8962 unique lines.\n",
      "Found 1953 duplicate lines.\n"
     ]
    }
   ],
   "source": [
    "# Training Data\n",
    "input_json_file = '/content/dailydialog_train.json'\n",
    "output_directory = 'dailydialog_train'\n",
    "merged_file_name = 'dailydialog_train_merged'\n",
    "json_data = load_json_file(input_json_file)\n",
    "preprocess_data_and_create_output(json_data, output_directory)\n",
    "merge_unique_lines_from_directory(output_directory, f\"{merged_file_name}.txt\")\n"
   ]
  },
  {
   "cell_type": "code",
   "execution_count": null,
   "metadata": {
    "colab": {
     "base_uri": "https://localhost:8080/"
    },
    "id": "QNCkTJ49jMGC",
    "outputId": "272205b3-bbfd-448f-b033-2b70b20f4dc2"
   },
   "outputs": [
    {
     "name": "stdout",
     "output_type": "stream",
     "text": [
      "Data preprocessing completed. Output files saved in the 'output' directory.\n",
      "Merged 2756 unique lines.\n",
      "Found 444 duplicate lines.\n"
     ]
    }
   ],
   "source": [
    "# Testing Data\n",
    "input_json_file = '/content/dailydialog_test.json'\n",
    "output_directory = 'dailydialog_test'\n",
    "merged_file_name = 'dailydialog_test_merged'\n",
    "json_data = load_json_file(input_json_file)\n",
    "preprocess_data_and_create_output(json_data, output_directory)\n",
    "merge_unique_lines_from_directory(output_directory, f\"{merged_file_name}.txt\")\n"
   ]
  },
  {
   "cell_type": "code",
   "execution_count": null,
   "metadata": {
    "colab": {
     "base_uri": "https://localhost:8080/"
    },
    "id": "hQe04ysAjMyO",
    "outputId": "53bf62f9-68ac-4674-de0d-a820f48fc3be"
   },
   "outputs": [
    {
     "name": "stdout",
     "output_type": "stream",
     "text": [
      "Data preprocessing completed. Output files saved in the 'output' directory.\n",
      "Merged 599 unique lines.\n",
      "Found 41 duplicate lines.\n"
     ]
    }
   ],
   "source": [
    "# Validation Data\n",
    "input_json_file = '/content/dailydialog_valid.json'\n",
    "output_directory = 'dailydialog_valid'\n",
    "merged_file_name = 'dailydialog_valid_merged'\n",
    "json_data = load_json_file(input_json_file)\n",
    "preprocess_data_and_create_output(json_data, output_directory)\n",
    "merge_unique_lines_from_directory(output_directory, f\"{merged_file_name}.txt\")\n"
   ]
  },
  {
   "cell_type": "markdown",
   "metadata": {
    "id": "hFtrP1Fols-a"
   },
   "source": [
    "**Data Preparation**"
   ]
  },
  {
   "cell_type": "code",
   "execution_count": null,
   "metadata": {
    "id": "wgtr-czdhrPp"
   },
   "outputs": [],
   "source": [
    "# Load train, test, and validation files\n",
    "def load_data(file_path):\n",
    "    documents = []\n",
    "    with open(file_path, 'rt', encoding='latin') as doc_file:\n",
    "        for line in doc_file:\n",
    "            documents.append(line)\n",
    "    return documents\n",
    "\n",
    "train_documents = load_data('/content/dailydialog_train_merged.txt')\n",
    "test_documents = load_data('/content/dailydialog_test_merged.txt')\n",
    "validation_documents = load_data('/content/dailydialog_valid_merged.txt')\n"
   ]
  },
  {
   "cell_type": "code",
   "execution_count": null,
   "metadata": {
    "colab": {
     "base_uri": "https://localhost:8080/"
    },
    "id": "KuGR7tO4V7c3",
    "outputId": "84ccfdbe-130e-44ba-f52f-329ba865d98c"
   },
   "outputs": [
    {
     "name": "stdout",
     "output_type": "stream",
     "text": [
      "Saved the set to emotion_seeds.pkl\n"
     ]
    }
   ],
   "source": [
    "# Define the set of emotion words set\n",
    "words_set = {'embarrassed', 'horror', 'embarrassment', 'despair', 'excitement',\n",
    "             'overjoyed', 'desolate', 'delighted', 'heartbreak', 'puzzlement',\n",
    "             'infuriated', 'sorrow', 'startled', 'amusement', 'worried', 'astounded',\n",
    "             'exhilarated', 'horrors', 'disquieted', 'gleeful', 'peeved', 'revulsion',\n",
    "             'astonished', 'anguish', 'petrified', 'dejected', 'indignant', 'heartbroken',\n",
    "             'furious', 'thrilled', 'despondency', 'horrified', 'annoyance', 'astonishment',\n",
    "             'ashamed', 'happier', 'nonplussed', 'mad', 'anxious', 'sadness', 'exhilaration',\n",
    "             'disgruntled', 'downcast', 'cross', 'crestfallen', 'agitated', 'devastated',\n",
    "             'alarmed', 'disquiet', 'amused', 'irked', 'sad', 'livid', 'nervous', 'disgruntlement',\n",
    "             'bewildered', 'down', 'depressed', 'dismayed', 'concerned', 'sickened', 'inconsolable',\n",
    "             'flabbergasted', 'saddened', 'elation', 'anger', 'happy', 'frightened', 'revolted',\n",
    "             'dismay', 'frustrated', 'fedup', 'angry', 'glum', 'ecstatic', 'griefstricken', 'delight',\n",
    "             'miserable', 'exasperated', 'pleased', 'glee', 'bewilderment', 'grief', 'resentful',\n",
    "             'excited', 'miffed', 'exasperation'}\n",
    "\n",
    "# Define the filename for the emotion seeds pickle file\n",
    "filename = 'emotion_seeds.pkl'\n",
    "\n",
    "# Save the set to the pickle file\n",
    "with open(filename, 'wb') as file:\n",
    "    pickle.dump(words_set, file)\n",
    "\n",
    "print(f'Saved the set to {filename}')\n"
   ]
  },
  {
   "cell_type": "code",
   "execution_count": null,
   "metadata": {
    "id": "7XHVzKEal_Qf"
   },
   "outputs": [],
   "source": [
    "# Emotion labels dictionary according to data\n",
    "# {'anger',\n",
    "#  'angry',\n",
    "#  'disgust',\n",
    "#  'excited',\n",
    "#  'fear',\n",
    "#  'happiness',\n",
    "#  'happy',\n",
    "#  'sad',\n",
    "#  'sadness',\n",
    "#  'surprise',\n",
    "#  'surprised'}\n",
    "\n",
    "#Extracts emotion-cause pairs from the given documents.\n",
    "def get_emotion_cause_pairs(documents):\n",
    "\n",
    "    with open('/content/emotion_seeds.pkl', 'rb') as f: #load saved emotion wordsets seeds\n",
    "      emotion_seeds = pickle.load(f)\n",
    "\n",
    "    document_clauses = []\n",
    "    emotion_labels = []\n",
    "    cause_labels = []\n",
    "\n",
    "    emotion_count_dict = {}\n",
    "    emotion_cause_pairs = []\n",
    "    emotion_cause_pairs_label = []\n",
    "\n",
    "    for i, line in enumerate(documents):\n",
    "        #Determine the emotion of each statement\n",
    "        emotion_of_line = \"\"\n",
    "        if line.startswith(\"<happy>\"):\n",
    "          emotion_of_line = \"happy\"\n",
    "        elif line.startswith(\"<happiness>\"):\n",
    "          emotion_of_line = \"happy\"\n",
    "        elif line.startswith(\"<sad>\"):\n",
    "          emotion_of_line = \"sad\"\n",
    "        elif line.startswith(\"<sadness>\"):\n",
    "          emotion_of_line = \"sad\"\n",
    "        elif line.startswith(\"<surprise>\"):\n",
    "          emotion_of_line = \"surprise\"\n",
    "        elif line.startswith(\"<surprised>\"):\n",
    "          emotion_of_line = \"surprise\"\n",
    "        elif line.startswith(\"<disgust>\"):\n",
    "          emotion_of_line = \"disgust\"\n",
    "        elif line.startswith(\"<anger>\"):\n",
    "          emotion_of_line = \"angry\"\n",
    "        elif line.startswith(\"<angry>\"):\n",
    "          emotion_of_line = \"angry\"\n",
    "        elif line.startswith(\"<shame>\"):\n",
    "          emotion_of_line = \"shame\"\n",
    "        elif line.startswith(\"<fear>\"):\n",
    "          emotion_of_line = \"fear\"\n",
    "        elif line.startswith(\"<excited>\"):\n",
    "          emotion_of_line = \"excited\"\n",
    "\n",
    "        if emotion_count_dict.get(emotion_of_line) == None:\n",
    "          emotion_count_dict[emotion_of_line] = 1\n",
    "        else:\n",
    "          emotion_count_dict[emotion_of_line] = emotion_count_dict[emotion_of_line]+1\n",
    "\n",
    "        # get clauses from each of the document\n",
    "        clauses = re.split(\"[.,!;:\\\"]+\", line)\n",
    "        emotion_clauses = []\n",
    "        cause_clauses = []\n",
    "        clauses_in_line = []\n",
    "        for clause in clauses:\n",
    "\n",
    "            cleaned_clause = remove_punctuation_from_clause(clause)\n",
    "\n",
    "            clause_words = cleaned_clause.split()\n",
    "\n",
    "            if len(clause_words) == 0:\n",
    "                continue\n",
    "\n",
    "            document_clauses.append(clause_words)\n",
    "            clauses_in_line.append(clause_words)\n",
    "\n",
    "            # Check for '<cause>' tag .\n",
    "            if \"<cause>\" in clause:\n",
    "                cause_labels.append(1)\n",
    "                cause_clauses.append(clause_words)\n",
    "            else:\n",
    "                cause_labels.append(0)\n",
    "\n",
    "            # Check if emotion seed is present in the clause.\n",
    "            has_seed = False\n",
    "            for word in clause_words:\n",
    "                if word.lower() in emotion_seeds:\n",
    "                    emotion_labels.append(1)\n",
    "                    emotion_clauses.append(clause_words)\n",
    "                    has_seed = True\n",
    "                    break\n",
    "            if not has_seed:\n",
    "                emotion_labels.append(0)\n",
    "\n",
    "\n",
    "        for m in range(len(clauses_in_line)):\n",
    "          for n in range(len(clauses_in_line)):\n",
    "              if clauses_in_line[m] in emotion_clauses and clauses_in_line[n] in cause_clauses:\n",
    "                emotion_cause_pairs.append((clauses_in_line[m], clauses_in_line[n]))\n",
    "                emotion_cause_pairs_label.append(emotion_of_line)\n",
    "              elif m!=n:\n",
    "                emotion_cause_pairs_label.append(\"None\")\n",
    "                emotion_cause_pairs.append((clauses_in_line[m], clauses_in_line[n]))\n",
    "\n",
    "\n",
    "    return np.array(document_clauses), np.array(emotion_labels), np.array(cause_labels), emotion_cause_pairs,emotion_cause_pairs_label,emotion_count_dict\n",
    "\n",
    "def remove_punctuation_from_clause(clause):\n",
    "    clause = re.sub('<[^<]+>', \"\", clause)\n",
    "    clause = clause.translate(str.maketrans('', '', string.punctuation))\n",
    "    clause = clause.translate(str.maketrans('', '', string.digits))\n",
    "    return clause\n"
   ]
  },
  {
   "cell_type": "code",
   "execution_count": null,
   "metadata": {
    "colab": {
     "base_uri": "https://localhost:8080/"
    },
    "id": "OSiRgG_ciQTG",
    "outputId": "9e39d85c-84a7-4eb8-a8ac-821c045df14a"
   },
   "outputs": [
    {
     "name": "stderr",
     "output_type": "stream",
     "text": [
      "<ipython-input-8-d55afa1ed218>:107: VisibleDeprecationWarning: Creating an ndarray from ragged nested sequences (which is a list-or-tuple of lists-or-tuples-or ndarrays with different lengths or shapes) is deprecated. If you meant to do this, you must specify 'dtype=object' when creating the ndarray.\n",
      "  return np.array(document_clauses), np.array(emotion_labels), np.array(cause_labels), emotion_cause_pairs,emotion_cause_pairs_label,emotion_count_dict\n"
     ]
    }
   ],
   "source": [
    "document_clauses_train, emotion_labels_train, cause_labels_train, emotion_cause_pairs_train, emotion_cause_pairs_labels_train, emotion_count_dict_train = get_emotion_cause_pairs(train_documents)\n",
    "document_clauses_test, emotion_labels_test, cause_labels_test, emotion_cause_pairs_test, emotion_cause_pairs_labels_test, emotion_count_dict_test = get_emotion_cause_pairs(test_documents)\n",
    "document_clauses_validation, emotion_labels_validation, cause_labels_validation, emotion_cause_pairs_validation, emotion_cause_pairs_labels_validation, emotion_count_dict_validation = get_emotion_cause_pairs(validation_documents)"
   ]
  },
  {
   "cell_type": "code",
   "execution_count": null,
   "metadata": {
    "colab": {
     "base_uri": "https://localhost:8080/"
    },
    "id": "eCJiWjgTip0z",
    "outputId": "eba97a7b-31cf-4b45-8e8c-7ce2a4a9ff2c"
   },
   "outputs": [
    {
     "name": "stdout",
     "output_type": "stream",
     "text": [
      "Train Data Statistics:\n",
      "Total number of documents in the train dataset:  8962\n",
      "Total pairs of clauses in train data: 90187\n",
      "Total pairs of emotion-cause clauses in train data:  608\n"
     ]
    }
   ],
   "source": [
    "print(\"Train Data Statistics:\")\n",
    "print(\"Total number of documents in the train dataset: \", len(train_documents))\n",
    "print(\"Total pairs of clauses in train data:\", len(emotion_cause_pairs_train))\n",
    "print(\"Total pairs of emotion-cause clauses in train data: \", len(emotion_cause_pairs_labels_train) - emotion_cause_pairs_labels_train.count(\"None\"))\n"
   ]
  },
  {
   "cell_type": "code",
   "execution_count": null,
   "metadata": {
    "colab": {
     "base_uri": "https://localhost:8080/"
    },
    "id": "PNuM1_Enir9Z",
    "outputId": "2a34c9e9-f9e0-4a4b-c7b1-6725e080f9f2"
   },
   "outputs": [
    {
     "name": "stdout",
     "output_type": "stream",
     "text": [
      "\n",
      "Test Data Statistics:\n",
      "Total number of documents in the test dataset:  2756\n",
      "Total pairs of clauses in test data: 31065\n",
      "Total pairs of emotion-cause clauses in test data:  148\n"
     ]
    }
   ],
   "source": [
    "print(\"\\nTest Data Statistics:\")\n",
    "print(\"Total number of documents in the test dataset: \", len(test_documents))\n",
    "print(\"Total pairs of clauses in test data:\", len(emotion_cause_pairs_test))\n",
    "print(\"Total pairs of emotion-cause clauses in test data: \", len(emotion_cause_pairs_labels_test) - emotion_cause_pairs_labels_test.count(\"None\"))"
   ]
  },
  {
   "cell_type": "code",
   "execution_count": null,
   "metadata": {
    "colab": {
     "base_uri": "https://localhost:8080/"
    },
    "id": "94C1CiutZ76y",
    "outputId": "a94625b9-94c3-4e94-f1d4-264738a547ca"
   },
   "outputs": [
    {
     "name": "stdout",
     "output_type": "stream",
     "text": [
      "\n",
      "Validation Data Statistics:\n",
      "Total number of documents in the validation dataset:  599\n",
      "Total pairs of clauses in validation data: 6781\n",
      "Total pairs of emotion-cause clauses in validation data:  30\n"
     ]
    }
   ],
   "source": [
    "print(\"\\nValidation Data Statistics:\")\n",
    "print(\"Total number of documents in the validation dataset: \", len(validation_documents))\n",
    "print(\"Total pairs of clauses in validation data:\", len(emotion_cause_pairs_validation))\n",
    "print(\"Total pairs of emotion-cause clauses in validation data: \", len(emotion_cause_pairs_labels_validation) - emotion_cause_pairs_labels_validation.count(\"None\"))\n"
   ]
  },
  {
   "cell_type": "code",
   "execution_count": null,
   "metadata": {
    "colab": {
     "base_uri": "https://localhost:8080/"
    },
    "id": "Swk33Jsfi71J",
    "outputId": "e9812033-ed66-4dec-e59e-5fe2ade963c8"
   },
   "outputs": [
    {
     "name": "stdout",
     "output_type": "stream",
     "text": [
      "Emotion wise count in train data {'None': 89579, 'happy': 505, '': 34, 'disgust': 12, 'sad': 43, 'surprise': 3, 'angry': 9, 'fear': 2}\n",
      "Emotion wise count in validation data {'None': 6751, '': 12, 'happy': 6, 'sad': 7, 'angry': 5}\n",
      "Emotion wise count in test data {'None': 30917, '': 24, 'fear': 10, 'happy': 80, 'angry': 13, 'sad': 15, 'surprise': 6}\n"
     ]
    }
   ],
   "source": [
    "emotion_count_dict_train = dict()\n",
    "for e in emotion_cause_pairs_labels_train:\n",
    "  if emotion_count_dict_train.get(e) == None:\n",
    "    emotion_count_dict_train[e] = 1\n",
    "  else:\n",
    "    emotion_count_dict_train[e]+=1\n",
    "print(\"Emotion wise count in train data\",emotion_count_dict_train)\n",
    "\n",
    "emotion_count_dict_cv = dict()\n",
    "for e in emotion_cause_pairs_labels_validation:\n",
    "  if emotion_count_dict_cv.get(e) == None:\n",
    "    emotion_count_dict_cv[e] = 1\n",
    "  else:\n",
    "    emotion_count_dict_cv[e]+=1\n",
    "print(\"Emotion wise count in validation data\",emotion_count_dict_cv)\n",
    "\n",
    "\n",
    "emotion_count_dict_test = dict()\n",
    "for e in emotion_cause_pairs_labels_test:\n",
    "  if emotion_count_dict_test.get(e) == None:\n",
    "    emotion_count_dict_test[e] = 1\n",
    "  else:\n",
    "    emotion_count_dict_test[e]+=1\n",
    "print(\"Emotion wise count in test data\",emotion_count_dict_test)\n",
    "\n",
    "emotion_cause_pairs_train_labels = [ 0 if i == \"None\" else 1 for i in emotion_cause_pairs_labels_train]\n",
    "emotion_cause_pairs_cv_labels = [ 0 if i == \"None\" else 1 for i in emotion_cause_pairs_labels_validation]\n",
    "emotion_cause_pairs_test_labels  = [ 0 if i == \"None\" else 1 for i in emotion_cause_pairs_labels_test]"
   ]
  },
  {
   "cell_type": "code",
   "execution_count": null,
   "metadata": {
    "colab": {
     "base_uri": "https://localhost:8080/"
    },
    "id": "JLiNPC86johj",
    "outputId": "3257795f-9efa-4c2f-9040-5857e19c963e"
   },
   "outputs": [
    {
     "data": {
      "text/plain": [
       "(90187, 31065, 6781)"
      ]
     },
     "execution_count": 14,
     "metadata": {},
     "output_type": "execute_result"
    }
   ],
   "source": [
    "len(emotion_cause_pairs_train_labels),len(emotion_cause_pairs_test_labels),len(emotion_cause_pairs_cv_labels)"
   ]
  },
  {
   "cell_type": "code",
   "execution_count": null,
   "metadata": {
    "id": "LV3HKvMwjqir"
   },
   "outputs": [],
   "source": [
    "######################################TRAIN DATA#################################################\n",
    "clauses_train = []\n",
    "emotion_train_labels = []\n",
    "cause_train_labels = []\n",
    "\n",
    "for i in range(len(emotion_cause_pairs_train)):\n",
    "  if emotion_cause_pairs_train_labels[i] == 1:\n",
    "    if emotion_cause_pairs_train[i][0] not in clauses_train:\n",
    "        clauses_train.append(emotion_cause_pairs_train[i][0])\n",
    "        emotion_train_labels.append(1)\n",
    "        cause_train_labels.append(0)\n",
    "    if emotion_cause_pairs_train[i][1] not in clauses_train:\n",
    "        clauses_train.append(emotion_cause_pairs_train[i][1])\n",
    "        emotion_train_labels.append(0)\n",
    "        cause_train_labels.append(1)\n",
    "#########################################VALIDATION DATA#################################################\n",
    "clauses_cv = []\n",
    "emotion_cv_labels = []\n",
    "cause_cv_labels = []\n",
    "for i in range(len(emotion_cause_pairs_validation)):\n",
    "  if emotion_cause_pairs_cv_labels[i] == 1:\n",
    "    if emotion_cause_pairs_validation[i][0] not in clauses_cv:\n",
    "        clauses_cv.append(emotion_cause_pairs_validation[i][0])\n",
    "        emotion_cv_labels.append(1)\n",
    "        cause_cv_labels.append(0)\n",
    "    if emotion_cause_pairs_validation[i][1] not in clauses_cv:\n",
    "        clauses_cv.append(emotion_cause_pairs_validation[i][1])\n",
    "        emotion_cv_labels.append(0)\n",
    "        cause_cv_labels.append(1)\n",
    "\n",
    "#########################################TEST DATA#################################################\n",
    "clauses_test = []\n",
    "emotion_test_labels = []\n",
    "cause_test_labels = []\n",
    "for i in range(len(emotion_cause_pairs_test)):\n",
    "  if emotion_cause_pairs_test_labels[i] == 1:\n",
    "    if emotion_cause_pairs_test[i][0] not in clauses_test:\n",
    "        clauses_test.append(emotion_cause_pairs_test[i][0])\n",
    "        emotion_test_labels.append(1)\n",
    "        cause_test_labels.append(0)\n",
    "    if emotion_cause_pairs_test[i][1] not in clauses_test:\n",
    "        clauses_test.append(emotion_cause_pairs_test[i][1])\n",
    "        emotion_test_labels.append(0)\n",
    "        cause_test_labels.append(1)"
   ]
  },
  {
   "cell_type": "code",
   "execution_count": null,
   "metadata": {
    "colab": {
     "base_uri": "https://localhost:8080/"
    },
    "id": "BiGnHM2IknGm",
    "outputId": "b4d3afef-3a40-4a1a-b217-ced889d3e977"
   },
   "outputs": [
    {
     "data": {
      "text/plain": [
       "(90187, 608, 31065, 148, 6781, 0)"
      ]
     },
     "execution_count": 16,
     "metadata": {},
     "output_type": "execute_result"
    }
   ],
   "source": [
    "len(emotion_cause_pairs_train),emotion_cause_pairs_train_labels.count(1),len(emotion_cause_pairs_test),emotion_cause_pairs_test_labels.count(1),len(emotion_cause_pairs_validation),emotion_cause_pairs_labels_validation.count(0)"
   ]
  },
  {
   "cell_type": "code",
   "execution_count": null,
   "metadata": {
    "colab": {
     "base_uri": "https://localhost:8080/"
    },
    "id": "MqELsEz_k1Ge",
    "outputId": "ffbbdb22-f6f1-44e0-978d-355f78675686"
   },
   "outputs": [
    {
     "data": {
      "text/plain": [
       "(323, 17, 104)"
      ]
     },
     "execution_count": 17,
     "metadata": {},
     "output_type": "execute_result"
    }
   ],
   "source": [
    "len(clauses_train),len(clauses_cv),len(clauses_test)"
   ]
  },
  {
   "cell_type": "markdown",
   "metadata": {
    "id": "PywCpHoylWSW"
   },
   "source": [
    "#### **Prepare Embeddings**"
   ]
  },
  {
   "cell_type": "code",
   "execution_count": null,
   "metadata": {
    "id": "8MvKfm_7laKg"
   },
   "outputs": [],
   "source": [
    "tokenizer = Tokenizer(num_words=5000)\n",
    "tokenizer.fit_on_texts(document_clauses_train)"
   ]
  },
  {
   "cell_type": "code",
   "execution_count": null,
   "metadata": {
    "colab": {
     "base_uri": "https://localhost:8080/"
    },
    "id": "ilhy5gbBHJ5y",
    "outputId": "e3571676-130a-4723-b29c-83b4282483fc"
   },
   "outputs": [
    {
     "name": "stdout",
     "output_type": "stream",
     "text": [
      "Unique number of tokens in the data:  5788\n"
     ]
    }
   ],
   "source": [
    "print(\"Unique number of tokens in the data: \",len(tokenizer.word_index))"
   ]
  },
  {
   "cell_type": "code",
   "execution_count": null,
   "metadata": {
    "colab": {
     "base_uri": "https://localhost:8080/"
    },
    "id": "onsEvmI7HKbm",
    "outputId": "297ad05b-646d-4079-ade1-2b8d2d32f24d"
   },
   "outputs": [
    {
     "data": {
      "text/plain": [
       "34"
      ]
     },
     "execution_count": 21,
     "metadata": {},
     "output_type": "execute_result"
    }
   ],
   "source": [
    "#Maximum length of a clause(maximun number of words in a clause in the data)\n",
    "MAX_SEQUENCE_LENGTH = 0\n",
    "\n",
    "for clause in document_clauses_train:\n",
    "  if len(clause) > MAX_SEQUENCE_LENGTH:\n",
    "    MAX_SEQUENCE_LENGTH = len(clause)\n",
    "\n",
    "MAX_SEQUENCE_LENGTH"
   ]
  },
  {
   "cell_type": "code",
   "execution_count": null,
   "metadata": {
    "id": "nVb_qV8_HMno"
   },
   "outputs": [],
   "source": [
    "clauses_train_transformed = tokenizer.texts_to_sequences(clauses_train)\n",
    "X_train = pad_sequences(clauses_train_transformed, maxlen=MAX_SEQUENCE_LENGTH,padding = 'post')\n",
    "\n",
    "clauses_cv_transformed = tokenizer.texts_to_sequences(clauses_cv)\n",
    "X_cv = pad_sequences(clauses_cv_transformed, maxlen=MAX_SEQUENCE_LENGTH,padding = 'post')\n",
    "\n",
    "clauses_test_transformed = tokenizer.texts_to_sequences(clauses_test)\n",
    "X_test = pad_sequences(clauses_test_transformed, maxlen=MAX_SEQUENCE_LENGTH,padding = 'post')"
   ]
  },
  {
   "cell_type": "code",
   "execution_count": null,
   "metadata": {
    "colab": {
     "base_uri": "https://localhost:8080/"
    },
    "id": "fRWuc5QBHaCj",
    "outputId": "24cfc1d1-59d4-4c97-a8a8-4548534b8862"
   },
   "outputs": [
    {
     "name": "stdout",
     "output_type": "stream",
     "text": [
      "Number of Train Samples 90187 90187 90187\n",
      "Number of Validation Samples 6781 6781 6781\n"
     ]
    }
   ],
   "source": [
    "#############################################################TRAIN DATA########################################################################################\n",
    "emotion_from_emotion_cause_pairs_train,cause_from_emotion_cause_pairs_train = list(zip(*emotion_cause_pairs_train))\n",
    "print(\"Number of Train Samples\",len(emotion_from_emotion_cause_pairs_train),len(cause_from_emotion_cause_pairs_train),len(emotion_cause_pairs_train_labels))\n",
    "\n",
    "emotion_from_emotion_cause_pairs_train_tansformed = tokenizer.texts_to_sequences(emotion_from_emotion_cause_pairs_train)\n",
    "cause_from_emotion_cause_pairs_train_transformed = tokenizer.texts_to_sequences(cause_from_emotion_cause_pairs_train)\n",
    "\n",
    "filter_model_emotion_train = pad_sequences(emotion_from_emotion_cause_pairs_train_tansformed, maxlen=MAX_SEQUENCE_LENGTH,padding = 'post')\n",
    "filter_model_cause_train   = pad_sequences(cause_from_emotion_cause_pairs_train_transformed, maxlen=MAX_SEQUENCE_LENGTH,padding = 'post')\n",
    "#############################################################VALIDATION DATA########################################################################################\n",
    "emotion_from_emotion_cause_pairs_cv,cause_from_emotion_cause_pairs_cv = list(zip(*emotion_cause_pairs_validation))\n",
    "print(\"Number of Validation Samples\",len(emotion_from_emotion_cause_pairs_cv),len(cause_from_emotion_cause_pairs_cv),len(emotion_cause_pairs_cv_labels))\n",
    "\n",
    "emotion_from_emotion_cause_pairs_cv_tansformed = tokenizer.texts_to_sequences(emotion_from_emotion_cause_pairs_cv)\n",
    "cause_from_emotion_cause_pairs_cv_transformed = tokenizer.texts_to_sequences(cause_from_emotion_cause_pairs_cv)\n",
    "\n",
    "filter_model_emotion_cv = pad_sequences(emotion_from_emotion_cause_pairs_cv_tansformed, maxlen=MAX_SEQUENCE_LENGTH,padding = 'post')\n",
    "filter_model_cause_cv  = pad_sequences(cause_from_emotion_cause_pairs_cv_transformed, maxlen=MAX_SEQUENCE_LENGTH,padding = 'post')"
   ]
  },
  {
   "cell_type": "code",
   "execution_count": null,
   "metadata": {
    "colab": {
     "base_uri": "https://localhost:8080/"
    },
    "id": "-j-UllJoHoc-",
    "outputId": "bb584b5f-a3f5-4465-aa22-39a1bec44fdd"
   },
   "outputs": [
    {
     "name": "stdout",
     "output_type": "stream",
     "text": [
      "[==================================================] 100.0% 1662.8/1662.8MB downloaded\n"
     ]
    }
   ],
   "source": [
    "import gensim.downloader as api\n",
    "model = api.load('word2vec-google-news-300')"
   ]
  },
  {
   "cell_type": "code",
   "execution_count": null,
   "metadata": {
    "id": "_qwu_iJYHs4M"
   },
   "outputs": [],
   "source": [
    "EMBEDDING_DIM = 300"
   ]
  },
  {
   "cell_type": "code",
   "execution_count": null,
   "metadata": {
    "id": "lRozNq8YHs6c"
   },
   "outputs": [],
   "source": [
    "word_index = tokenizer.word_index"
   ]
  },
  {
   "cell_type": "code",
   "execution_count": null,
   "metadata": {
    "id": "QdtzRq0IHs8n"
   },
   "outputs": [],
   "source": [
    "\n",
    "word_index = tokenizer.word_index\n",
    "embedding_matrix = np.zeros((len(word_index) + 1, EMBEDDING_DIM))\n",
    "for word, i in word_index.items():\n",
    "    try:\n",
    "      embedding_vector = model.get_vector(word)\n",
    "      embedding_matrix[i] = embedding_vector\n",
    "    except:\n",
    "      pass"
   ]
  },
  {
   "cell_type": "code",
   "execution_count": null,
   "metadata": {
    "id": "ePrXhJwpHs_J"
   },
   "outputs": [],
   "source": [
    "np.save('/content/emotion_embedding_layer_matrix.npy',embedding_matrix)"
   ]
  },
  {
   "cell_type": "code",
   "execution_count": null,
   "metadata": {
    "id": "Vh3QFi9aHtBr"
   },
   "outputs": [],
   "source": [
    "embedding_matrix = np.load('/content/emotion_embedding_layer_matrix.npy')"
   ]
  },
  {
   "cell_type": "code",
   "execution_count": null,
   "metadata": {
    "colab": {
     "base_uri": "https://localhost:8080/"
    },
    "id": "NaiMMk39NVsL",
    "outputId": "e1ba5956-bd5c-46b1-a65e-009b56d81fd9"
   },
   "outputs": [
    {
     "data": {
      "text/plain": [
       "array([[ 0.        ,  0.        ,  0.        , ...,  0.        ,\n",
       "         0.        ,  0.        ],\n",
       "       [-0.22558594, -0.01953125,  0.09082031, ...,  0.02819824,\n",
       "        -0.17773438, -0.00604248],\n",
       "       [ 0.20410156,  0.01318359,  0.07568359, ..., -0.21191406,\n",
       "        -0.1328125 ,  0.10839844],\n",
       "       ...,\n",
       "       [-0.01672363, -0.11767578, -0.06445312, ..., -0.08789062,\n",
       "        -0.03710938, -0.23535156],\n",
       "       [ 0.23144531, -0.11816406,  0.19238281, ..., -0.11035156,\n",
       "        -0.18261719,  0.11035156],\n",
       "       [ 0.        ,  0.        ,  0.        , ...,  0.        ,\n",
       "         0.        ,  0.        ]])"
      ]
     },
     "execution_count": 30,
     "metadata": {},
     "output_type": "execute_result"
    }
   ],
   "source": [
    "embedding_matrix"
   ]
  },
  {
   "cell_type": "markdown",
   "metadata": {
    "id": "obd8waIHH5yr"
   },
   "source": [
    "### **EMOTION/ CAUSE CLASSIFICATION MODEL USING BILSTM**\n"
   ]
  },
  {
   "cell_type": "code",
   "execution_count": null,
   "metadata": {
    "colab": {
     "base_uri": "https://localhost:8080/"
    },
    "id": "jjRnvR1UHtD5",
    "outputId": "8e1a73ac-032c-4d7d-ff77-162e366c7fa4"
   },
   "outputs": [
    {
     "name": "stdout",
     "output_type": "stream",
     "text": [
      "Model: \"model\"\n",
      "__________________________________________________________________________________________________\n",
      " Layer (type)                Output Shape                 Param #   Connected to                  \n",
      "==================================================================================================\n",
      " input_1 (InputLayer)        [(None, 34)]                 0         []                            \n",
      "                                                                                                  \n",
      " embedding_layer (Embedding  (None, 34, 300)              1736700   ['input_1[0][0]']             \n",
      " )                                                                                                \n",
      "                                                                                                  \n",
      " dropout_layer (Dropout)     (None, 34, 300)              0         ['embedding_layer[0][0]']     \n",
      "                                                                                                  \n",
      " bidirectional (Bidirection  (None, 600)                  1442400   ['dropout_layer[0][0]']       \n",
      " al)                                                                                              \n",
      "                                                                                                  \n",
      " dense (Dense)               (None, 100)                  60100     ['bidirectional[0][0]']       \n",
      "                                                                                                  \n",
      " dense_2 (Dense)             (None, 100)                  60100     ['bidirectional[0][0]']       \n",
      "                                                                                                  \n",
      " dense_1 (Dense)             (None, 100)                  10100     ['dense[0][0]']               \n",
      "                                                                                                  \n",
      " dense_3 (Dense)             (None, 100)                  10100     ['dense_2[0][0]']             \n",
      "                                                                                                  \n",
      " emotion (Dense)             (None, 1)                    101       ['dense_1[0][0]']             \n",
      "                                                                                                  \n",
      " cause (Dense)               (None, 1)                    101       ['dense_3[0][0]']             \n",
      "                                                                                                  \n",
      "==================================================================================================\n",
      "Total params: 3319702 (12.66 MB)\n",
      "Trainable params: 3319702 (12.66 MB)\n",
      "Non-trainable params: 0 (0.00 Byte)\n",
      "__________________________________________________________________________________________________\n"
     ]
    }
   ],
   "source": [
    "tf.keras.backend.clear_session()\n",
    "\n",
    "BILSTM_HIDDEN_UNITS = 300\n",
    "\n",
    "clause_input = tf.keras.layers.Input(shape=(MAX_SEQUENCE_LENGTH,), dtype='int32')\n",
    "\n",
    "#Using Word2Vec Model as pretrained embedding\n",
    "embedding_layer = tf.keras.layers.Embedding(len(word_index) + 1,\n",
    "                                            EMBEDDING_DIM,\n",
    "                                            weights=[embedding_matrix],\n",
    "                                            input_length=MAX_SEQUENCE_LENGTH,\n",
    "                                            trainable=True,\n",
    "                                            name='embedding_layer')\n",
    "\n",
    "embedded_clause_input = embedding_layer(clause_input)\n",
    "#Drop out for the embedding layer\n",
    "embedded_clause_dropped_input = tf.keras.layers.Dropout(0.8,name='dropout_layer')(embedded_clause_input)\n",
    "clause_bilstm_output = tf.keras.layers.Bidirectional(tf.keras.layers.LSTM(BILSTM_HIDDEN_UNITS\n",
    "                                                    ))(embedded_clause_dropped_input)\n",
    "\n",
    "\n",
    "output_emotion_1 = tf.keras.layers.Dense(units = 100, activation='sigmoid')(clause_bilstm_output)\n",
    "output_emotion_2 = tf.keras.layers.Dense(units = 100, activation='sigmoid')(output_emotion_1)\n",
    "output_emotion = tf.keras.layers.Dense(units = 1, activation='sigmoid', name = 'emotion')(output_emotion_2)\n",
    "\n",
    "output_cause_1 = tf.keras.layers.Dense(units = 100, activation='sigmoid')(clause_bilstm_output)\n",
    "output_cause_2 = tf.keras.layers.Dense(units = 100, activation='sigmoid')(output_cause_1)\n",
    "output_cause = tf.keras.layers.Dense(units = 1,activation='sigmoid', name = 'cause')(output_cause_2)\n",
    "\n",
    "model = tf.keras.models.Model(inputs=clause_input, outputs=[output_emotion, output_cause])\n",
    "model.summary()"
   ]
  },
  {
   "cell_type": "code",
   "execution_count": null,
   "metadata": {
    "id": "FWRnS-2XIC92"
   },
   "outputs": [],
   "source": [
    "model.compile(loss=['binary_crossentropy', 'binary_crossentropy'],\n",
    "              optimizer=tf.keras.optimizers.Adam(learning_rate=0.001),\n",
    "              metrics = {'emotion': 'accuracy','cause': 'accuracy'}, loss_weights = [1, 1])"
   ]
  },
  {
   "cell_type": "code",
   "execution_count": null,
   "metadata": {
    "colab": {
     "base_uri": "https://localhost:8080/"
    },
    "id": "nwwsG8thIF9R",
    "outputId": "07cf4ab6-20d4-4357-9dc4-a2dd8583a868"
   },
   "outputs": [
    {
     "name": "stdout",
     "output_type": "stream",
     "text": [
      "Epoch 1/10\n",
      "11/11 [==============================] - 7s 227ms/step - loss: 1.3958 - emotion_loss: 0.6955 - cause_loss: 0.7003 - emotion_accuracy: 0.5170 - cause_accuracy: 0.5139 - val_loss: 1.3688 - val_emotion_loss: 0.6805 - val_cause_loss: 0.6883 - val_emotion_accuracy: 0.5294 - val_cause_accuracy: 0.5294\n",
      "Epoch 2/10\n",
      "11/11 [==============================] - 1s 119ms/step - loss: 1.3228 - emotion_loss: 0.6588 - cause_loss: 0.6641 - emotion_accuracy: 0.6099 - cause_accuracy: 0.6099 - val_loss: 1.3679 - val_emotion_loss: 0.6835 - val_cause_loss: 0.6843 - val_emotion_accuracy: 0.5294 - val_cause_accuracy: 0.5294\n",
      "Epoch 3/10\n",
      "11/11 [==============================] - 2s 136ms/step - loss: 1.2679 - emotion_loss: 0.6316 - cause_loss: 0.6363 - emotion_accuracy: 0.6471 - cause_accuracy: 0.6502 - val_loss: 1.3369 - val_emotion_loss: 0.6670 - val_cause_loss: 0.6698 - val_emotion_accuracy: 0.5882 - val_cause_accuracy: 0.6471\n",
      "Epoch 4/10\n",
      "11/11 [==============================] - 1s 120ms/step - loss: 1.1227 - emotion_loss: 0.5569 - cause_loss: 0.5658 - emotion_accuracy: 0.7523 - cause_accuracy: 0.7399 - val_loss: 1.0784 - val_emotion_loss: 0.5372 - val_cause_loss: 0.5413 - val_emotion_accuracy: 0.7059 - val_cause_accuracy: 0.7059\n",
      "Epoch 5/10\n",
      "11/11 [==============================] - 1s 72ms/step - loss: 1.0574 - emotion_loss: 0.5295 - cause_loss: 0.5279 - emotion_accuracy: 0.7152 - cause_accuracy: 0.7214 - val_loss: 1.2927 - val_emotion_loss: 0.6480 - val_cause_loss: 0.6447 - val_emotion_accuracy: 0.7647 - val_cause_accuracy: 0.7647\n",
      "Epoch 6/10\n",
      "11/11 [==============================] - 0s 19ms/step - loss: 1.0668 - emotion_loss: 0.5367 - cause_loss: 0.5301 - emotion_accuracy: 0.7864 - cause_accuracy: 0.7833 - val_loss: 1.2136 - val_emotion_loss: 0.6061 - val_cause_loss: 0.6076 - val_emotion_accuracy: 0.5294 - val_cause_accuracy: 0.5882\n",
      "Epoch 7/10\n",
      "11/11 [==============================] - 1s 75ms/step - loss: 0.9234 - emotion_loss: 0.4623 - cause_loss: 0.4611 - emotion_accuracy: 0.7988 - cause_accuracy: 0.7957 - val_loss: 1.2526 - val_emotion_loss: 0.6302 - val_cause_loss: 0.6224 - val_emotion_accuracy: 0.5882 - val_cause_accuracy: 0.5882\n",
      "Epoch 8/10\n",
      "11/11 [==============================] - 0s 36ms/step - loss: 0.8694 - emotion_loss: 0.4370 - cause_loss: 0.4325 - emotion_accuracy: 0.8142 - cause_accuracy: 0.8173 - val_loss: 1.1320 - val_emotion_loss: 0.5688 - val_cause_loss: 0.5632 - val_emotion_accuracy: 0.7647 - val_cause_accuracy: 0.7647\n",
      "Epoch 9/10\n",
      "11/11 [==============================] - 1s 55ms/step - loss: 0.8261 - emotion_loss: 0.4123 - cause_loss: 0.4138 - emotion_accuracy: 0.8452 - cause_accuracy: 0.8390 - val_loss: 1.3765 - val_emotion_loss: 0.6881 - val_cause_loss: 0.6885 - val_emotion_accuracy: 0.7647 - val_cause_accuracy: 0.7647\n",
      "Epoch 10/10\n",
      "11/11 [==============================] - 0s 29ms/step - loss: 0.6721 - emotion_loss: 0.3353 - cause_loss: 0.3368 - emotion_accuracy: 0.8607 - cause_accuracy: 0.8669 - val_loss: 1.1657 - val_emotion_loss: 0.5855 - val_cause_loss: 0.5802 - val_emotion_accuracy: 0.7059 - val_cause_accuracy: 0.7059\n"
     ]
    },
    {
     "data": {
      "text/plain": [
       "<keras.src.callbacks.History at 0x78abc9fd21d0>"
      ]
     },
     "execution_count": 43,
     "metadata": {},
     "output_type": "execute_result"
    }
   ],
   "source": [
    "model.fit(X_train, [np.array(emotion_train_labels), np.array(cause_train_labels)],\n",
    "          validation_data = (X_cv, [np.array(emotion_cv_labels), np.array(cause_cv_labels)]),\n",
    "          batch_size = 32,\n",
    "          epochs = 10,\n",
    "          verbose = True,\n",
    "          shuffle = True)"
   ]
  },
  {
   "cell_type": "code",
   "execution_count": null,
   "metadata": {
    "colab": {
     "base_uri": "https://localhost:8080/"
    },
    "id": "Lr1v7C8HIJ27",
    "outputId": "2549e650-e507-49fa-8a66-5ce174b0b87a"
   },
   "outputs": [
    {
     "name": "stdout",
     "output_type": "stream",
     "text": [
      "4/4 [==============================] - 1s 5ms/step\n"
     ]
    }
   ],
   "source": [
    "y_emotion_pred,y_cause_pred = model.predict(X_test)"
   ]
  },
  {
   "cell_type": "code",
   "execution_count": null,
   "metadata": {
    "id": "RzvmkJdLIR-L"
   },
   "outputs": [],
   "source": [
    "y_emotion_pred = [ 1 if i > 0.5 else 0 for i in y_emotion_pred ]\n",
    "y_cause_pred = [ 1 if i > 0.5 else 0 for i in y_cause_pred ]"
   ]
  },
  {
   "cell_type": "code",
   "execution_count": null,
   "metadata": {
    "colab": {
     "base_uri": "https://localhost:8080/",
     "height": 174
    },
    "id": "Yb2oQdEDITj-",
    "outputId": "1a7d550b-6b94-4ce5-a0f0-a65dcfcb404c"
   },
   "outputs": [
    {
     "data": {
      "text/html": [
       "\n",
       "  <div id=\"df-95d32f63-c2e1-46f6-a3b1-067465b50977\" class=\"colab-df-container\">\n",
       "    <div>\n",
       "<style scoped>\n",
       "    .dataframe tbody tr th:only-of-type {\n",
       "        vertical-align: middle;\n",
       "    }\n",
       "\n",
       "    .dataframe tbody tr th {\n",
       "        vertical-align: top;\n",
       "    }\n",
       "\n",
       "    .dataframe thead th {\n",
       "        text-align: right;\n",
       "    }\n",
       "</style>\n",
       "<table border=\"1\" class=\"dataframe\">\n",
       "  <thead>\n",
       "    <tr style=\"text-align: right;\">\n",
       "      <th></th>\n",
       "      <th>0</th>\n",
       "      <th>1</th>\n",
       "      <th>accuracy</th>\n",
       "      <th>macro avg</th>\n",
       "      <th>weighted avg</th>\n",
       "    </tr>\n",
       "  </thead>\n",
       "  <tbody>\n",
       "    <tr>\n",
       "      <th>precision</th>\n",
       "      <td>0.936170</td>\n",
       "      <td>0.771930</td>\n",
       "      <td>0.846154</td>\n",
       "      <td>0.854050</td>\n",
       "      <td>0.861946</td>\n",
       "    </tr>\n",
       "    <tr>\n",
       "      <th>recall</th>\n",
       "      <td>0.771930</td>\n",
       "      <td>0.936170</td>\n",
       "      <td>0.846154</td>\n",
       "      <td>0.854050</td>\n",
       "      <td>0.846154</td>\n",
       "    </tr>\n",
       "    <tr>\n",
       "      <th>f1-score</th>\n",
       "      <td>0.846154</td>\n",
       "      <td>0.846154</td>\n",
       "      <td>0.846154</td>\n",
       "      <td>0.846154</td>\n",
       "      <td>0.846154</td>\n",
       "    </tr>\n",
       "    <tr>\n",
       "      <th>support</th>\n",
       "      <td>57.000000</td>\n",
       "      <td>47.000000</td>\n",
       "      <td>0.846154</td>\n",
       "      <td>104.000000</td>\n",
       "      <td>104.000000</td>\n",
       "    </tr>\n",
       "  </tbody>\n",
       "</table>\n",
       "</div>\n",
       "    <div class=\"colab-df-buttons\">\n",
       "\n",
       "  <div class=\"colab-df-container\">\n",
       "    <button class=\"colab-df-convert\" onclick=\"convertToInteractive('df-95d32f63-c2e1-46f6-a3b1-067465b50977')\"\n",
       "            title=\"Convert this dataframe to an interactive table.\"\n",
       "            style=\"display:none;\">\n",
       "\n",
       "  <svg xmlns=\"http://www.w3.org/2000/svg\" height=\"24px\" viewBox=\"0 -960 960 960\">\n",
       "    <path d=\"M120-120v-720h720v720H120Zm60-500h600v-160H180v160Zm220 220h160v-160H400v160Zm0 220h160v-160H400v160ZM180-400h160v-160H180v160Zm440 0h160v-160H620v160ZM180-180h160v-160H180v160Zm440 0h160v-160H620v160Z\"/>\n",
       "  </svg>\n",
       "    </button>\n",
       "\n",
       "  <style>\n",
       "    .colab-df-container {\n",
       "      display:flex;\n",
       "      gap: 12px;\n",
       "    }\n",
       "\n",
       "    .colab-df-convert {\n",
       "      background-color: #E8F0FE;\n",
       "      border: none;\n",
       "      border-radius: 50%;\n",
       "      cursor: pointer;\n",
       "      display: none;\n",
       "      fill: #1967D2;\n",
       "      height: 32px;\n",
       "      padding: 0 0 0 0;\n",
       "      width: 32px;\n",
       "    }\n",
       "\n",
       "    .colab-df-convert:hover {\n",
       "      background-color: #E2EBFA;\n",
       "      box-shadow: 0px 1px 2px rgba(60, 64, 67, 0.3), 0px 1px 3px 1px rgba(60, 64, 67, 0.15);\n",
       "      fill: #174EA6;\n",
       "    }\n",
       "\n",
       "    .colab-df-buttons div {\n",
       "      margin-bottom: 4px;\n",
       "    }\n",
       "\n",
       "    [theme=dark] .colab-df-convert {\n",
       "      background-color: #3B4455;\n",
       "      fill: #D2E3FC;\n",
       "    }\n",
       "\n",
       "    [theme=dark] .colab-df-convert:hover {\n",
       "      background-color: #434B5C;\n",
       "      box-shadow: 0px 1px 3px 1px rgba(0, 0, 0, 0.15);\n",
       "      filter: drop-shadow(0px 1px 2px rgba(0, 0, 0, 0.3));\n",
       "      fill: #FFFFFF;\n",
       "    }\n",
       "  </style>\n",
       "\n",
       "    <script>\n",
       "      const buttonEl =\n",
       "        document.querySelector('#df-95d32f63-c2e1-46f6-a3b1-067465b50977 button.colab-df-convert');\n",
       "      buttonEl.style.display =\n",
       "        google.colab.kernel.accessAllowed ? 'block' : 'none';\n",
       "\n",
       "      async function convertToInteractive(key) {\n",
       "        const element = document.querySelector('#df-95d32f63-c2e1-46f6-a3b1-067465b50977');\n",
       "        const dataTable =\n",
       "          await google.colab.kernel.invokeFunction('convertToInteractive',\n",
       "                                                    [key], {});\n",
       "        if (!dataTable) return;\n",
       "\n",
       "        const docLinkHtml = 'Like what you see? Visit the ' +\n",
       "          '<a target=\"_blank\" href=https://colab.research.google.com/notebooks/data_table.ipynb>data table notebook</a>'\n",
       "          + ' to learn more about interactive tables.';\n",
       "        element.innerHTML = '';\n",
       "        dataTable['output_type'] = 'display_data';\n",
       "        await google.colab.output.renderOutput(dataTable, element);\n",
       "        const docLink = document.createElement('div');\n",
       "        docLink.innerHTML = docLinkHtml;\n",
       "        element.appendChild(docLink);\n",
       "      }\n",
       "    </script>\n",
       "  </div>\n",
       "\n",
       "\n",
       "<div id=\"df-586bcf8a-8751-4f46-be89-66c1b39b0a82\">\n",
       "  <button class=\"colab-df-quickchart\" onclick=\"quickchart('df-586bcf8a-8751-4f46-be89-66c1b39b0a82')\"\n",
       "            title=\"Suggest charts.\"\n",
       "            style=\"display:none;\">\n",
       "\n",
       "<svg xmlns=\"http://www.w3.org/2000/svg\" height=\"24px\"viewBox=\"0 0 24 24\"\n",
       "     width=\"24px\">\n",
       "    <g>\n",
       "        <path d=\"M19 3H5c-1.1 0-2 .9-2 2v14c0 1.1.9 2 2 2h14c1.1 0 2-.9 2-2V5c0-1.1-.9-2-2-2zM9 17H7v-7h2v7zm4 0h-2V7h2v10zm4 0h-2v-4h2v4z\"/>\n",
       "    </g>\n",
       "</svg>\n",
       "  </button>\n",
       "\n",
       "<style>\n",
       "  .colab-df-quickchart {\n",
       "      --bg-color: #E8F0FE;\n",
       "      --fill-color: #1967D2;\n",
       "      --hover-bg-color: #E2EBFA;\n",
       "      --hover-fill-color: #174EA6;\n",
       "      --disabled-fill-color: #AAA;\n",
       "      --disabled-bg-color: #DDD;\n",
       "  }\n",
       "\n",
       "  [theme=dark] .colab-df-quickchart {\n",
       "      --bg-color: #3B4455;\n",
       "      --fill-color: #D2E3FC;\n",
       "      --hover-bg-color: #434B5C;\n",
       "      --hover-fill-color: #FFFFFF;\n",
       "      --disabled-bg-color: #3B4455;\n",
       "      --disabled-fill-color: #666;\n",
       "  }\n",
       "\n",
       "  .colab-df-quickchart {\n",
       "    background-color: var(--bg-color);\n",
       "    border: none;\n",
       "    border-radius: 50%;\n",
       "    cursor: pointer;\n",
       "    display: none;\n",
       "    fill: var(--fill-color);\n",
       "    height: 32px;\n",
       "    padding: 0;\n",
       "    width: 32px;\n",
       "  }\n",
       "\n",
       "  .colab-df-quickchart:hover {\n",
       "    background-color: var(--hover-bg-color);\n",
       "    box-shadow: 0 1px 2px rgba(60, 64, 67, 0.3), 0 1px 3px 1px rgba(60, 64, 67, 0.15);\n",
       "    fill: var(--button-hover-fill-color);\n",
       "  }\n",
       "\n",
       "  .colab-df-quickchart-complete:disabled,\n",
       "  .colab-df-quickchart-complete:disabled:hover {\n",
       "    background-color: var(--disabled-bg-color);\n",
       "    fill: var(--disabled-fill-color);\n",
       "    box-shadow: none;\n",
       "  }\n",
       "\n",
       "  .colab-df-spinner {\n",
       "    border: 2px solid var(--fill-color);\n",
       "    border-color: transparent;\n",
       "    border-bottom-color: var(--fill-color);\n",
       "    animation:\n",
       "      spin 1s steps(1) infinite;\n",
       "  }\n",
       "\n",
       "  @keyframes spin {\n",
       "    0% {\n",
       "      border-color: transparent;\n",
       "      border-bottom-color: var(--fill-color);\n",
       "      border-left-color: var(--fill-color);\n",
       "    }\n",
       "    20% {\n",
       "      border-color: transparent;\n",
       "      border-left-color: var(--fill-color);\n",
       "      border-top-color: var(--fill-color);\n",
       "    }\n",
       "    30% {\n",
       "      border-color: transparent;\n",
       "      border-left-color: var(--fill-color);\n",
       "      border-top-color: var(--fill-color);\n",
       "      border-right-color: var(--fill-color);\n",
       "    }\n",
       "    40% {\n",
       "      border-color: transparent;\n",
       "      border-right-color: var(--fill-color);\n",
       "      border-top-color: var(--fill-color);\n",
       "    }\n",
       "    60% {\n",
       "      border-color: transparent;\n",
       "      border-right-color: var(--fill-color);\n",
       "    }\n",
       "    80% {\n",
       "      border-color: transparent;\n",
       "      border-right-color: var(--fill-color);\n",
       "      border-bottom-color: var(--fill-color);\n",
       "    }\n",
       "    90% {\n",
       "      border-color: transparent;\n",
       "      border-bottom-color: var(--fill-color);\n",
       "    }\n",
       "  }\n",
       "</style>\n",
       "\n",
       "  <script>\n",
       "    async function quickchart(key) {\n",
       "      const quickchartButtonEl =\n",
       "        document.querySelector('#' + key + ' button');\n",
       "      quickchartButtonEl.disabled = true;  // To prevent multiple clicks.\n",
       "      quickchartButtonEl.classList.add('colab-df-spinner');\n",
       "      try {\n",
       "        const charts = await google.colab.kernel.invokeFunction(\n",
       "            'suggestCharts', [key], {});\n",
       "      } catch (error) {\n",
       "        console.error('Error during call to suggestCharts:', error);\n",
       "      }\n",
       "      quickchartButtonEl.classList.remove('colab-df-spinner');\n",
       "      quickchartButtonEl.classList.add('colab-df-quickchart-complete');\n",
       "    }\n",
       "    (() => {\n",
       "      let quickchartButtonEl =\n",
       "        document.querySelector('#df-586bcf8a-8751-4f46-be89-66c1b39b0a82 button');\n",
       "      quickchartButtonEl.style.display =\n",
       "        google.colab.kernel.accessAllowed ? 'block' : 'none';\n",
       "    })();\n",
       "  </script>\n",
       "</div>\n",
       "    </div>\n",
       "  </div>\n"
      ],
      "text/plain": [
       "                   0          1  accuracy   macro avg  weighted avg\n",
       "precision   0.936170   0.771930  0.846154    0.854050      0.861946\n",
       "recall      0.771930   0.936170  0.846154    0.854050      0.846154\n",
       "f1-score    0.846154   0.846154  0.846154    0.846154      0.846154\n",
       "support    57.000000  47.000000  0.846154  104.000000    104.000000"
      ]
     },
     "execution_count": 46,
     "metadata": {},
     "output_type": "execute_result"
    }
   ],
   "source": [
    "class_report = classification_report(emotion_test_labels, y_emotion_pred, target_names=[0,1], output_dict=True)\n",
    "report = pd.DataFrame(data = class_report)\n",
    "report"
   ]
  },
  {
   "cell_type": "code",
   "execution_count": null,
   "metadata": {
    "colab": {
     "base_uri": "https://localhost:8080/",
     "height": 174
    },
    "id": "tK4lJYkLIVx9",
    "outputId": "cf13ef63-d401-4df2-cb1d-755a18c08ba1"
   },
   "outputs": [
    {
     "data": {
      "text/html": [
       "\n",
       "  <div id=\"df-acaa36d3-9820-4b70-9242-094ec5b46a41\" class=\"colab-df-container\">\n",
       "    <div>\n",
       "<style scoped>\n",
       "    .dataframe tbody tr th:only-of-type {\n",
       "        vertical-align: middle;\n",
       "    }\n",
       "\n",
       "    .dataframe tbody tr th {\n",
       "        vertical-align: top;\n",
       "    }\n",
       "\n",
       "    .dataframe thead th {\n",
       "        text-align: right;\n",
       "    }\n",
       "</style>\n",
       "<table border=\"1\" class=\"dataframe\">\n",
       "  <thead>\n",
       "    <tr style=\"text-align: right;\">\n",
       "      <th></th>\n",
       "      <th>0</th>\n",
       "      <th>1</th>\n",
       "      <th>accuracy</th>\n",
       "      <th>macro avg</th>\n",
       "      <th>weighted avg</th>\n",
       "    </tr>\n",
       "  </thead>\n",
       "  <tbody>\n",
       "    <tr>\n",
       "      <th>precision</th>\n",
       "      <td>0.771930</td>\n",
       "      <td>0.936170</td>\n",
       "      <td>0.846154</td>\n",
       "      <td>0.854050</td>\n",
       "      <td>0.861946</td>\n",
       "    </tr>\n",
       "    <tr>\n",
       "      <th>recall</th>\n",
       "      <td>0.936170</td>\n",
       "      <td>0.771930</td>\n",
       "      <td>0.846154</td>\n",
       "      <td>0.854050</td>\n",
       "      <td>0.846154</td>\n",
       "    </tr>\n",
       "    <tr>\n",
       "      <th>f1-score</th>\n",
       "      <td>0.846154</td>\n",
       "      <td>0.846154</td>\n",
       "      <td>0.846154</td>\n",
       "      <td>0.846154</td>\n",
       "      <td>0.846154</td>\n",
       "    </tr>\n",
       "    <tr>\n",
       "      <th>support</th>\n",
       "      <td>47.000000</td>\n",
       "      <td>57.000000</td>\n",
       "      <td>0.846154</td>\n",
       "      <td>104.000000</td>\n",
       "      <td>104.000000</td>\n",
       "    </tr>\n",
       "  </tbody>\n",
       "</table>\n",
       "</div>\n",
       "    <div class=\"colab-df-buttons\">\n",
       "\n",
       "  <div class=\"colab-df-container\">\n",
       "    <button class=\"colab-df-convert\" onclick=\"convertToInteractive('df-acaa36d3-9820-4b70-9242-094ec5b46a41')\"\n",
       "            title=\"Convert this dataframe to an interactive table.\"\n",
       "            style=\"display:none;\">\n",
       "\n",
       "  <svg xmlns=\"http://www.w3.org/2000/svg\" height=\"24px\" viewBox=\"0 -960 960 960\">\n",
       "    <path d=\"M120-120v-720h720v720H120Zm60-500h600v-160H180v160Zm220 220h160v-160H400v160Zm0 220h160v-160H400v160ZM180-400h160v-160H180v160Zm440 0h160v-160H620v160ZM180-180h160v-160H180v160Zm440 0h160v-160H620v160Z\"/>\n",
       "  </svg>\n",
       "    </button>\n",
       "\n",
       "  <style>\n",
       "    .colab-df-container {\n",
       "      display:flex;\n",
       "      gap: 12px;\n",
       "    }\n",
       "\n",
       "    .colab-df-convert {\n",
       "      background-color: #E8F0FE;\n",
       "      border: none;\n",
       "      border-radius: 50%;\n",
       "      cursor: pointer;\n",
       "      display: none;\n",
       "      fill: #1967D2;\n",
       "      height: 32px;\n",
       "      padding: 0 0 0 0;\n",
       "      width: 32px;\n",
       "    }\n",
       "\n",
       "    .colab-df-convert:hover {\n",
       "      background-color: #E2EBFA;\n",
       "      box-shadow: 0px 1px 2px rgba(60, 64, 67, 0.3), 0px 1px 3px 1px rgba(60, 64, 67, 0.15);\n",
       "      fill: #174EA6;\n",
       "    }\n",
       "\n",
       "    .colab-df-buttons div {\n",
       "      margin-bottom: 4px;\n",
       "    }\n",
       "\n",
       "    [theme=dark] .colab-df-convert {\n",
       "      background-color: #3B4455;\n",
       "      fill: #D2E3FC;\n",
       "    }\n",
       "\n",
       "    [theme=dark] .colab-df-convert:hover {\n",
       "      background-color: #434B5C;\n",
       "      box-shadow: 0px 1px 3px 1px rgba(0, 0, 0, 0.15);\n",
       "      filter: drop-shadow(0px 1px 2px rgba(0, 0, 0, 0.3));\n",
       "      fill: #FFFFFF;\n",
       "    }\n",
       "  </style>\n",
       "\n",
       "    <script>\n",
       "      const buttonEl =\n",
       "        document.querySelector('#df-acaa36d3-9820-4b70-9242-094ec5b46a41 button.colab-df-convert');\n",
       "      buttonEl.style.display =\n",
       "        google.colab.kernel.accessAllowed ? 'block' : 'none';\n",
       "\n",
       "      async function convertToInteractive(key) {\n",
       "        const element = document.querySelector('#df-acaa36d3-9820-4b70-9242-094ec5b46a41');\n",
       "        const dataTable =\n",
       "          await google.colab.kernel.invokeFunction('convertToInteractive',\n",
       "                                                    [key], {});\n",
       "        if (!dataTable) return;\n",
       "\n",
       "        const docLinkHtml = 'Like what you see? Visit the ' +\n",
       "          '<a target=\"_blank\" href=https://colab.research.google.com/notebooks/data_table.ipynb>data table notebook</a>'\n",
       "          + ' to learn more about interactive tables.';\n",
       "        element.innerHTML = '';\n",
       "        dataTable['output_type'] = 'display_data';\n",
       "        await google.colab.output.renderOutput(dataTable, element);\n",
       "        const docLink = document.createElement('div');\n",
       "        docLink.innerHTML = docLinkHtml;\n",
       "        element.appendChild(docLink);\n",
       "      }\n",
       "    </script>\n",
       "  </div>\n",
       "\n",
       "\n",
       "<div id=\"df-5daec731-5e41-47a2-83eb-8f2b7c5dca6f\">\n",
       "  <button class=\"colab-df-quickchart\" onclick=\"quickchart('df-5daec731-5e41-47a2-83eb-8f2b7c5dca6f')\"\n",
       "            title=\"Suggest charts.\"\n",
       "            style=\"display:none;\">\n",
       "\n",
       "<svg xmlns=\"http://www.w3.org/2000/svg\" height=\"24px\"viewBox=\"0 0 24 24\"\n",
       "     width=\"24px\">\n",
       "    <g>\n",
       "        <path d=\"M19 3H5c-1.1 0-2 .9-2 2v14c0 1.1.9 2 2 2h14c1.1 0 2-.9 2-2V5c0-1.1-.9-2-2-2zM9 17H7v-7h2v7zm4 0h-2V7h2v10zm4 0h-2v-4h2v4z\"/>\n",
       "    </g>\n",
       "</svg>\n",
       "  </button>\n",
       "\n",
       "<style>\n",
       "  .colab-df-quickchart {\n",
       "      --bg-color: #E8F0FE;\n",
       "      --fill-color: #1967D2;\n",
       "      --hover-bg-color: #E2EBFA;\n",
       "      --hover-fill-color: #174EA6;\n",
       "      --disabled-fill-color: #AAA;\n",
       "      --disabled-bg-color: #DDD;\n",
       "  }\n",
       "\n",
       "  [theme=dark] .colab-df-quickchart {\n",
       "      --bg-color: #3B4455;\n",
       "      --fill-color: #D2E3FC;\n",
       "      --hover-bg-color: #434B5C;\n",
       "      --hover-fill-color: #FFFFFF;\n",
       "      --disabled-bg-color: #3B4455;\n",
       "      --disabled-fill-color: #666;\n",
       "  }\n",
       "\n",
       "  .colab-df-quickchart {\n",
       "    background-color: var(--bg-color);\n",
       "    border: none;\n",
       "    border-radius: 50%;\n",
       "    cursor: pointer;\n",
       "    display: none;\n",
       "    fill: var(--fill-color);\n",
       "    height: 32px;\n",
       "    padding: 0;\n",
       "    width: 32px;\n",
       "  }\n",
       "\n",
       "  .colab-df-quickchart:hover {\n",
       "    background-color: var(--hover-bg-color);\n",
       "    box-shadow: 0 1px 2px rgba(60, 64, 67, 0.3), 0 1px 3px 1px rgba(60, 64, 67, 0.15);\n",
       "    fill: var(--button-hover-fill-color);\n",
       "  }\n",
       "\n",
       "  .colab-df-quickchart-complete:disabled,\n",
       "  .colab-df-quickchart-complete:disabled:hover {\n",
       "    background-color: var(--disabled-bg-color);\n",
       "    fill: var(--disabled-fill-color);\n",
       "    box-shadow: none;\n",
       "  }\n",
       "\n",
       "  .colab-df-spinner {\n",
       "    border: 2px solid var(--fill-color);\n",
       "    border-color: transparent;\n",
       "    border-bottom-color: var(--fill-color);\n",
       "    animation:\n",
       "      spin 1s steps(1) infinite;\n",
       "  }\n",
       "\n",
       "  @keyframes spin {\n",
       "    0% {\n",
       "      border-color: transparent;\n",
       "      border-bottom-color: var(--fill-color);\n",
       "      border-left-color: var(--fill-color);\n",
       "    }\n",
       "    20% {\n",
       "      border-color: transparent;\n",
       "      border-left-color: var(--fill-color);\n",
       "      border-top-color: var(--fill-color);\n",
       "    }\n",
       "    30% {\n",
       "      border-color: transparent;\n",
       "      border-left-color: var(--fill-color);\n",
       "      border-top-color: var(--fill-color);\n",
       "      border-right-color: var(--fill-color);\n",
       "    }\n",
       "    40% {\n",
       "      border-color: transparent;\n",
       "      border-right-color: var(--fill-color);\n",
       "      border-top-color: var(--fill-color);\n",
       "    }\n",
       "    60% {\n",
       "      border-color: transparent;\n",
       "      border-right-color: var(--fill-color);\n",
       "    }\n",
       "    80% {\n",
       "      border-color: transparent;\n",
       "      border-right-color: var(--fill-color);\n",
       "      border-bottom-color: var(--fill-color);\n",
       "    }\n",
       "    90% {\n",
       "      border-color: transparent;\n",
       "      border-bottom-color: var(--fill-color);\n",
       "    }\n",
       "  }\n",
       "</style>\n",
       "\n",
       "  <script>\n",
       "    async function quickchart(key) {\n",
       "      const quickchartButtonEl =\n",
       "        document.querySelector('#' + key + ' button');\n",
       "      quickchartButtonEl.disabled = true;  // To prevent multiple clicks.\n",
       "      quickchartButtonEl.classList.add('colab-df-spinner');\n",
       "      try {\n",
       "        const charts = await google.colab.kernel.invokeFunction(\n",
       "            'suggestCharts', [key], {});\n",
       "      } catch (error) {\n",
       "        console.error('Error during call to suggestCharts:', error);\n",
       "      }\n",
       "      quickchartButtonEl.classList.remove('colab-df-spinner');\n",
       "      quickchartButtonEl.classList.add('colab-df-quickchart-complete');\n",
       "    }\n",
       "    (() => {\n",
       "      let quickchartButtonEl =\n",
       "        document.querySelector('#df-5daec731-5e41-47a2-83eb-8f2b7c5dca6f button');\n",
       "      quickchartButtonEl.style.display =\n",
       "        google.colab.kernel.accessAllowed ? 'block' : 'none';\n",
       "    })();\n",
       "  </script>\n",
       "</div>\n",
       "    </div>\n",
       "  </div>\n"
      ],
      "text/plain": [
       "                   0          1  accuracy   macro avg  weighted avg\n",
       "precision   0.771930   0.936170  0.846154    0.854050      0.861946\n",
       "recall      0.936170   0.771930  0.846154    0.854050      0.846154\n",
       "f1-score    0.846154   0.846154  0.846154    0.846154      0.846154\n",
       "support    47.000000  57.000000  0.846154  104.000000    104.000000"
      ]
     },
     "execution_count": 47,
     "metadata": {},
     "output_type": "execute_result"
    }
   ],
   "source": [
    "class_report = classification_report(cause_test_labels, y_cause_pred, target_names=[0,1], output_dict=True)\n",
    "report = pd.DataFrame(data = class_report)\n",
    "report"
   ]
  }
 ],
 "metadata": {
  "accelerator": "GPU",
  "colab": {
   "gpuType": "T4",
   "machine_shape": "hm",
   "provenance": []
  },
  "kernelspec": {
   "display_name": "Python 3 (ipykernel)",
   "language": "python",
   "name": "python3"
  },
  "language_info": {
   "codemirror_mode": {
    "name": "ipython",
    "version": 3
   },
   "file_extension": ".py",
   "mimetype": "text/x-python",
   "name": "python",
   "nbconvert_exporter": "python",
   "pygments_lexer": "ipython3",
   "version": "3.11.5"
  }
 },
 "nbformat": 4,
 "nbformat_minor": 4
}
